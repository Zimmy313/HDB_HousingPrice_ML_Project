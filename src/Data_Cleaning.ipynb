{
 "cells": [
  {
   "cell_type": "markdown",
   "metadata": {},
   "source": [
    "### 1. Import Package and Data"
   ]
  },
  {
   "cell_type": "code",
   "execution_count": 88,
   "metadata": {},
   "outputs": [],
   "source": [
    "import pandas as pd\n",
    "import numpy as np\n",
    "import seaborn as sns\n",
    "import matplotlib.pyplot as plt\n",
    "import re\n",
    "import math\n",
    "from sklearn.model_selection import train_test_split\n",
    "from sklearn.linear_model import LinearRegression\n",
    "from sklearn.metrics import mean_squared_error, r2_score"
   ]
  },
  {
   "cell_type": "code",
   "execution_count": 89,
   "metadata": {},
   "outputs": [],
   "source": [
    "df_1999 = pd.read_csv(\"../data/ResaleFlatPricesBasedonApprovalDate19901999.csv\")\n",
    "df_2012 = pd.read_csv(\"../data/ResaleFlatPricesBasedonApprovalDate2000Feb2012.csv\")\n",
    "df_2014 = pd.read_csv(\"../data/ResaleFlatPricesBasedonRegistrationDateFromMar2012toDec2014.csv\")\n",
    "df_2016 = pd.read_csv(\"../data/ResaleFlatPricesBasedonRegistrationDateFromJan2015toDec2016.csv\")\n",
    "df_2017 = pd.read_csv(\"../data/ResaleflatpricesbasedonregistrationdatefromJan2017onwards.csv\")"
   ]
  },
  {
   "cell_type": "markdown",
   "metadata": {},
   "source": [
    "### 2. Data Cleaning"
   ]
  },
  {
   "cell_type": "code",
   "execution_count": 90,
   "metadata": {},
   "outputs": [],
   "source": [
    "# Checking for NaNs and duplicates\n",
    "def clean_dataset(df, dataset_name):\n",
    "    \"\"\"\n",
    "    Cleans the dataset by identifying and removing duplicate rows and checking for missing values.\n",
    "\n",
    "    Parameters:\n",
    "    df (pd.DataFrame): The DataFrame to be cleaned.\n",
    "    dataset_name (str): The name of the dataset for logging purposes.\n",
    "\n",
    "    Returns:\n",
    "    pd.DataFrame: A cleaned DataFrame with duplicates removed.\n",
    "    \n",
    "    Prints:\n",
    "    - The number of duplicate rows found and removed.\n",
    "    - The count of missing values per column.\n",
    "    \"\"\"\n",
    "    print(f\"Cleaning dataset: {dataset_name}\")\n",
    "    \n",
    "    # Check for duplicates\n",
    "    duplicates_count = df.duplicated().sum()\n",
    "    print(f\"{dataset_name}: Number of duplicates: {duplicates_count}\")\n",
    "    \n",
    "    # Drop duplicates\n",
    "    df_cleaned = df.drop_duplicates().copy()          \n",
    "    \n",
    "    # Check for missing values\n",
    "    missing_values = df_cleaned.isna().sum()\n",
    "    print(f\"{dataset_name}: Missing values per column:\")\n",
    "    print(missing_values)\n",
    "    \n",
    "    return df_cleaned"
   ]
  },
  {
   "cell_type": "code",
   "execution_count": 91,
   "metadata": {},
   "outputs": [
    {
     "name": "stdout",
     "output_type": "stream",
     "text": [
      "Cleaning dataset: 1999\n",
      "1999: Number of duplicates: 826\n",
      "1999: Missing values per column:\n",
      "month                  0\n",
      "town                   0\n",
      "flat_type              0\n",
      "block                  0\n",
      "street_name            0\n",
      "storey_range           0\n",
      "floor_area_sqm         0\n",
      "flat_model             0\n",
      "lease_commence_date    0\n",
      "resale_price           0\n",
      "dtype: int64\n",
      "Cleaning dataset: 2012\n",
      "2012: Number of duplicates: 513\n",
      "2012: Missing values per column:\n",
      "month                  0\n",
      "town                   0\n",
      "flat_type              0\n",
      "block                  0\n",
      "street_name            0\n",
      "storey_range           0\n",
      "floor_area_sqm         0\n",
      "flat_model             0\n",
      "lease_commence_date    0\n",
      "resale_price           0\n",
      "dtype: int64\n",
      "Cleaning dataset: 2014\n",
      "2014: Number of duplicates: 248\n",
      "2014: Missing values per column:\n",
      "month                  0\n",
      "town                   0\n",
      "flat_type              0\n",
      "block                  0\n",
      "street_name            0\n",
      "storey_range           0\n",
      "floor_area_sqm         0\n",
      "flat_model             0\n",
      "lease_commence_date    0\n",
      "resale_price           0\n",
      "dtype: int64\n",
      "Cleaning dataset: 2016\n",
      "2016: Number of duplicates: 24\n",
      "2016: Missing values per column:\n",
      "month                  0\n",
      "town                   0\n",
      "flat_type              0\n",
      "block                  0\n",
      "street_name            0\n",
      "storey_range           0\n",
      "floor_area_sqm         0\n",
      "flat_model             0\n",
      "lease_commence_date    0\n",
      "remaining_lease        0\n",
      "resale_price           0\n",
      "dtype: int64\n",
      "Cleaning dataset: 2017\n",
      "2017: Number of duplicates: 291\n",
      "2017: Missing values per column:\n",
      "month                  0\n",
      "town                   0\n",
      "flat_type              0\n",
      "block                  0\n",
      "street_name            0\n",
      "storey_range           0\n",
      "floor_area_sqm         0\n",
      "flat_model             0\n",
      "lease_commence_date    0\n",
      "remaining_lease        0\n",
      "resale_price           0\n",
      "dtype: int64\n"
     ]
    }
   ],
   "source": [
    "# Clean each dataset\n",
    "\n",
    "# 1. Clean and split df_1999\n",
    "df_1999_cleaned = clean_dataset(df_1999, \"1999\")\n",
    "\n",
    "# 2. Clean and split df_2012\n",
    "df_2012_cleaned = clean_dataset(df_2012, \"2012\")\n",
    "\n",
    "# 3. Clean and split df_2014\n",
    "df_2014_cleaned = clean_dataset(df_2014, \"2014\")\n",
    "\n",
    "# 4. Clean and split df_2016\n",
    "df_2016_cleaned = clean_dataset(df_2016, \"2016\")\n",
    "\n",
    "# 5. Clean and split df_2017\n",
    "df_2017_cleaned = clean_dataset(df_2017, \"2017\")\n"
   ]
  },
  {
   "cell_type": "markdown",
   "metadata": {},
   "source": [
    "Our dataset do not contain any missing values. Hence, we will only remove the duplicates."
   ]
  },
  {
   "cell_type": "code",
   "execution_count": 92,
   "metadata": {},
   "outputs": [],
   "source": [
    "# Function to print out all the columns in each datasets\n",
    "def explore_columns(datasets):\n",
    "    \"\"\"\n",
    "    Prints the column names of each dataset in the provided dictionary for exploration and comparison.\n",
    "\n",
    "    Parameters:\n",
    "    datasets (dict): A dictionary where keys are dataset names (str) and values are DataFrames (pd.DataFrame).\n",
    "\n",
    "    Prints:\n",
    "    - The name and column names of each dataset, separated by a newline for clarity.\n",
    "    \n",
    "    This function is useful for identifying column discrepancies or exploring the structure of each dataset\n",
    "    in a collection.\n",
    "    \"\"\"\n",
    "    for name, df in datasets.items():\n",
    "        print(f\"Dataset {name} columns:\")\n",
    "        print(df.columns)\n",
    "        print(\"\\n\")"
   ]
  },
  {
   "cell_type": "code",
   "execution_count": 93,
   "metadata": {},
   "outputs": [
    {
     "name": "stdout",
     "output_type": "stream",
     "text": [
      "Dataset 1999 columns:\n",
      "Index(['month', 'town', 'flat_type', 'block', 'street_name', 'storey_range',\n",
      "       'floor_area_sqm', 'flat_model', 'lease_commence_date', 'resale_price'],\n",
      "      dtype='object')\n",
      "\n",
      "\n",
      "Dataset 2012 columns:\n",
      "Index(['month', 'town', 'flat_type', 'block', 'street_name', 'storey_range',\n",
      "       'floor_area_sqm', 'flat_model', 'lease_commence_date', 'resale_price'],\n",
      "      dtype='object')\n",
      "\n",
      "\n",
      "Dataset 2014 columns:\n",
      "Index(['month', 'town', 'flat_type', 'block', 'street_name', 'storey_range',\n",
      "       'floor_area_sqm', 'flat_model', 'lease_commence_date', 'resale_price'],\n",
      "      dtype='object')\n",
      "\n",
      "\n",
      "Dataset 2016 columns:\n",
      "Index(['month', 'town', 'flat_type', 'block', 'street_name', 'storey_range',\n",
      "       'floor_area_sqm', 'flat_model', 'lease_commence_date',\n",
      "       'remaining_lease', 'resale_price'],\n",
      "      dtype='object')\n",
      "\n",
      "\n",
      "Dataset 2017 columns:\n",
      "Index(['month', 'town', 'flat_type', 'block', 'street_name', 'storey_range',\n",
      "       'floor_area_sqm', 'flat_model', 'lease_commence_date',\n",
      "       'remaining_lease', 'resale_price'],\n",
      "      dtype='object')\n",
      "\n",
      "\n"
     ]
    }
   ],
   "source": [
    "# check if all the datasets have the same columns\n",
    "datasets = {\n",
    "    \"1999\": df_1999_cleaned,\n",
    "    \"2012\": df_2012_cleaned,\n",
    "    \"2014\": df_2014_cleaned,\n",
    "    \"2016\": df_2016_cleaned,\n",
    "    \"2017\": df_2017_cleaned\n",
    "}\n",
    "explore_columns(datasets)"
   ]
  },
  {
   "cell_type": "markdown",
   "metadata": {},
   "source": [
    "We can see that only the 2016 and 2017 contains the column `remaining_lease`. Hence, we will be imputing this value by calculating using `Month` - `Lease commence date`"
   ]
  },
  {
   "cell_type": "code",
   "execution_count": 94,
   "metadata": {},
   "outputs": [],
   "source": [
    "def impute_remaining_lease(df):\n",
    "    \"\"\"\n",
    "    Imputes 'remaining_lease' based on 'lease_commence_date' and 'Month' columns,\n",
    "    assuming a 99-year lease duration. Converts the result to an integer by rounding\n",
    "    based on months: rounds up if months > 6, otherwise rounds down.\n",
    "\n",
    "    Parameters:\n",
    "    df (pd.DataFrame): The DataFrame where 'remaining_lease' needs to be imputed.\n",
    "\n",
    "    Returns:\n",
    "    pd.DataFrame: The DataFrame with 'remaining_lease' imputed as an integer.\n",
    "    \"\"\"\n",
    "    # Calculate remaining lease as a string with years and months\n",
    "    df['current_year'] = pd.to_datetime(df['month']).dt.year\n",
    "    df['remaining_lease'] = (99 - (df['current_year'] - df['lease_commence_date'])).astype(str) + \" years 00 months\"\n",
    "    \n",
    "    # Define the function to convert to integer years with rounding\n",
    "    def round_remaining_lease(lease):\n",
    "        match = re.match(r\"(\\d+) years (\\d+) months\", lease)\n",
    "        if match:\n",
    "            years = int(match.group(1))\n",
    "            months = int(match.group(2))\n",
    "            # Round up if months > 6\n",
    "            if months > 6:\n",
    "                years += 1\n",
    "            return years\n",
    "        else:\n",
    "            return None\n",
    "\n",
    "    # Apply rounding to 'remaining_lease' column\n",
    "    df['remaining_lease'] = df['remaining_lease'].apply(round_remaining_lease)\n",
    "    \n",
    "    # Drop the temporary 'current_year' column after imputation\n",
    "    df.drop(columns=['current_year'], inplace=True)\n",
    "    return df"
   ]
  },
  {
   "cell_type": "code",
   "execution_count": 95,
   "metadata": {},
   "outputs": [],
   "source": [
    "# Apply to the datasets where 'remaining_lease' is missing\n",
    "df_1999_cleaned = impute_remaining_lease(df_1999_cleaned)\n",
    "df_2012_cleaned = impute_remaining_lease(df_2012_cleaned)\n",
    "df_2014_cleaned = impute_remaining_lease(df_2014_cleaned)"
   ]
  },
  {
   "cell_type": "markdown",
   "metadata": {},
   "source": [
    "In addition, some of the `remaining_lease` are string because they are stored in year, month format. For example, 95 years 07 months. We will convert it to only integer years. If month > June, we will round up. Else, we will round down."
   ]
  },
  {
   "cell_type": "code",
   "execution_count": 96,
   "metadata": {},
   "outputs": [],
   "source": [
    "def standardize_remaining_lease(df):\n",
    "    \"\"\"\n",
    "    Standardizes the 'remaining_lease' column in a DataFrame to integer years.\n",
    "    Converts from 'XX years YY months' format to integer years, rounding up if months > 6.\n",
    "\n",
    "    Parameters:\n",
    "    df (pd.DataFrame): The DataFrame containing the 'remaining_lease' column in mixed formats.\n",
    "\n",
    "    Returns:\n",
    "    pd.DataFrame: The DataFrame with 'remaining_lease' standardized as an integer number of years.\n",
    "    \"\"\"\n",
    "    def convert_lease(lease):\n",
    "        # If the value is already an integer, return it as-is\n",
    "        if isinstance(lease, int):\n",
    "            return lease\n",
    "        \n",
    "        # Use regex to extract years and months if lease is in string format\n",
    "        match = re.match(r\"(\\d+) years (\\d+) months\", lease)\n",
    "        if match:\n",
    "            years = int(match.group(1))\n",
    "            months = int(match.group(2))\n",
    "            \n",
    "            # Round up if months > 6, otherwise round down\n",
    "            return years + 1 if months > 6 else years\n",
    "        return None  # Return None if the format is unexpected\n",
    "    \n",
    "    # Apply the conversion directly to the 'remaining_lease' column\n",
    "    df['remaining_lease'] = df['remaining_lease'].apply(convert_lease)\n",
    "    return df"
   ]
  },
  {
   "cell_type": "code",
   "execution_count": 97,
   "metadata": {},
   "outputs": [],
   "source": [
    "# Apply the function to standardize 'remaining_lease' in each cleaned dataset\n",
    "df_1999_cleaned = standardize_remaining_lease(df_1999_cleaned)\n",
    "df_2012_cleaned = standardize_remaining_lease(df_2012_cleaned)\n",
    "df_2014_cleaned = standardize_remaining_lease(df_2014_cleaned)\n",
    "df_2016_cleaned = standardize_remaining_lease(df_2016_cleaned)\n",
    "df_2017_cleaned = standardize_remaining_lease(df_2017_cleaned)"
   ]
  },
  {
   "cell_type": "markdown",
   "metadata": {},
   "source": [
    "### 3. EDA"
   ]
  },
  {
   "cell_type": "markdown",
   "metadata": {},
   "source": [
    "We will split it into numerical and categorical data"
   ]
  },
  {
   "cell_type": "code",
   "execution_count": 98,
   "metadata": {},
   "outputs": [],
   "source": [
    "# Splitting categorical and numerical values\n",
    "def split_categorical_numerical(df):\n",
    "    \"\"\"\n",
    "    Splits the DataFrame into separate categorical and numerical DataFrames based on column data types.\n",
    "\n",
    "    Parameters:\n",
    "    df (pd.DataFrame): The DataFrame to be split.\n",
    "\n",
    "    Returns:\n",
    "    tuple: A tuple containing two DataFrames:\n",
    "        - categorical_columns (pd.DataFrame): DataFrame of categorical columns.\n",
    "        - numerical_columns (pd.DataFrame): DataFrame of numerical columns.\n",
    "    \"\"\"\n",
    "    categorical_columns = df.select_dtypes(include=['object'])\n",
    "    numerical_columns = df.select_dtypes(include=['number'])\n",
    "    return categorical_columns, numerical_columns"
   ]
  },
  {
   "cell_type": "code",
   "execution_count": 99,
   "metadata": {},
   "outputs": [],
   "source": [
    "# 1. split df_1999\n",
    "df_1999_col, df_1999_num = split_categorical_numerical(df_1999_cleaned)\n",
    "\n",
    "# 2. split df_2012\n",
    "df_2012_col, df_2012_num = split_categorical_numerical(df_2012_cleaned)\n",
    "\n",
    "# 3. split df_2014\n",
    "df_2014_col, df_2014_num = split_categorical_numerical(df_2014_cleaned)\n",
    "\n",
    "# 4. split df_2016\n",
    "df_2016_col, df_2016_num = split_categorical_numerical(df_2016_cleaned)\n",
    "\n",
    "# 5. split df_2017\n",
    "df_2017_col, df_2017_num = split_categorical_numerical(df_2017_cleaned)\n"
   ]
  },
  {
   "cell_type": "markdown",
   "metadata": {},
   "source": [
    "##### 3.1 Numerical values"
   ]
  },
  {
   "cell_type": "code",
   "execution_count": 100,
   "metadata": {},
   "outputs": [
    {
     "data": {
      "image/png": "[encoded data removed]",
      "text/plain": [
       "<Figure size 1000x800 with 2 Axes>"
      ]
     },
     "metadata": {},
     "output_type": "display_data"
    }
   ],
   "source": [
    "# creating a heat map of the numerical values\n",
    "numerical_combined = pd.concat([df_1999_num, df_2012_num, df_2014_num, df_2016_num, df_2017_num])\n",
    "correlation_matrix = numerical_combined.corr()\n",
    "plt.figure(figsize=(10, 8))\n",
    "sns.heatmap(correlation_matrix, annot=True, cmap='coolwarm', linewidths=0.5)\n",
    "plt.title('Correlation Heatmap of Combined Numerical Data')\n",
    "plt.show()"
   ]
  },
  {
   "cell_type": "markdown",
   "metadata": {},
   "source": [
    "Considering `remaining_lease` if derived from `lease_commence_date` and they have a rather high correlation (**0.64**), we will drop `lease_commence_date` to keep the more insightful feature `remaining_lease`."
   ]
  },
  {
   "cell_type": "code",
   "execution_count": 101,
   "metadata": {},
   "outputs": [],
   "source": [
    "def drop_lease_commence(df):\n",
    "    \"\"\"\n",
    "    Drops the 'lease_commence_date' column from the DataFrame if it exists, to retain only 'remaining_lease'.\n",
    "\n",
    "    Parameters:\n",
    "    df (pd.DataFrame): The DataFrame from which 'lease_commence_date' will be removed.\n",
    "\n",
    "    Returns:\n",
    "    pd.DataFrame: The DataFrame without the 'lease_commence_date' column if it was present.\n",
    "    \"\"\"\n",
    "    return df.drop(columns=['lease_commence_date'], errors='ignore')\n",
    "\n",
    "# Example usage on multiple incoming DataFrames\n",
    "df_1999_cleaned = drop_lease_commence(df_1999_cleaned)\n",
    "df_2012_cleaned = drop_lease_commence(df_2012_cleaned)\n",
    "df_2014_cleaned = drop_lease_commence(df_2014_cleaned)\n",
    "df_2016_cleaned = drop_lease_commence(df_2016_cleaned)\n",
    "df_2017_cleaned = drop_lease_commence(df_2017_cleaned)"
   ]
  },
  {
   "cell_type": "code",
   "execution_count": 103,
   "metadata": {},
   "outputs": [
    {
     "data": {
      "image/png": "[encoded data removed]",
      "text/plain": [
       "<Figure size 1500x800 with 6 Axes>"
      ]
     },
     "metadata": {},
     "output_type": "display_data"
    }
   ],
   "source": [
    "# Define the number of columns and rows for the grid layout\n",
    "num_columns = 3  # Number of plots per row\n",
    "num_plots = 4  # Total number of plots\n",
    "num_rows = 2  # Number of rows needed\n",
    "numerical_columns = numerical_combined.columns\n",
    "\n",
    "# Set the figure size\n",
    "fig, axes = plt.subplots(num_rows, num_columns, figsize=(15, num_rows * 4))\n",
    "axes = axes.flatten()\n",
    "\n",
    "# Plot each numerical column in a subplot\n",
    "for i, column in enumerate(numerical_columns):\n",
    "    axes[i].hist(numerical_combined[column], bins=30, color='blue', alpha=0.7, edgecolor='black')\n",
    "    axes[i].set_title(f'Histogram of {column}')\n",
    "    axes[i].set_xlabel(column)\n",
    "    axes[i].set_ylabel('Frequency')\n",
    "    axes[i].grid(True)\n",
    "\n",
    "# Hide any unused subplots\n",
    "for j in range(i + 1, len(axes)):\n",
    "    axes[j].axis('off')\n",
    "\n",
    "plt.tight_layout()  # Adjust layout to avoid overlapping text\n",
    "plt.show()"
   ]
  },
  {
   "cell_type": "markdown",
   "metadata": {},
   "source": [
    "##### 3.2 Categorical values"
   ]
  },
  {
   "cell_type": "markdown",
   "metadata": {},
   "source": [
    "### 3. Feature Engineering"
   ]
  },
  {
   "cell_type": "markdown",
   "metadata": {},
   "source": [
    "#### Train_test_split\n",
    "We will be spliting the data into 80-20 before we conduct any imputation or feature engineering."
   ]
  },
  {
   "cell_type": "code",
   "execution_count": 44,
   "metadata": {},
   "outputs": [],
   "source": [
    "# Combining the datasets\n",
    "combined_data = pd.concat([df_1999_cleaned, df_2012_cleaned, df_2014_cleaned, df_2016_cleaned, df_2017_cleaned], ignore_index=True)\n",
    "\n",
    "X = combined_data.drop(columns=['resale_price']) \n",
    "y = combined_data['resale_price']\n",
    "\n",
    "# Split the data into an 80-20 train-test split\n",
    "X_train, X_test, y_train, y_test = train_test_split(X, y, test_size=0.2, random_state=42)\n"
   ]
  },
  {
   "cell_type": "markdown",
   "metadata": {},
   "source": [
    "#### Standardisation"
   ]
  },
  {
   "cell_type": "markdown",
   "metadata": {},
   "source": [
    "<span style=\"font-size: 14px;\"> `clean_flat_model` convert all `str` to uppercase and strip whitespaces left and right </span>\n",
    "\n",
    "<span style=\"font-size: 14px;\">  `convert_remaining_lease` convert the types(`timedelta`, `int` and `str`) into `float` type </span>\n",
    "\n",
    "<span style=\"font-size: 14px;\">  `convert_month_to_datetime` convert `month` column from `str` to `datetime` </span>"
   ]
  },
  {
   "cell_type": "code",
   "execution_count": 7,
   "metadata": {},
   "outputs": [],
   "source": [
    "def clean_flat_model(df):\n",
    "    df['flat_model'] = df['flat_model'].str.strip().str.upper()\n",
    "    return df \n",
    "\n",
    "\n",
    "def convert_remaining_lease(df):\n",
    "    # When input is a dataframe\n",
    "    if isinstance(df, pd.DataFrame):\n",
    "        for index, row in df.iterrows():\n",
    "            # Convert remaining_lease that are string to float\n",
    "            if isinstance(row['remaining_lease'], str):\n",
    "                remaining_lease_str = row[\"remaining_lease\"].lower()\n",
    "                years = 0\n",
    "                months = 0\n",
    "                \n",
    "                if 'years' in remaining_lease_str:\n",
    "                    years = int(remaining_lease_str.split('years')[0].strip())\n",
    "                if 'months' in remaining_lease_str:\n",
    "                    months = int(remaining_lease_str.split('months')[0].split()[-1].strip())\n",
    "                df.loc[index, 'remaining_lease'] = years + months / 12\n",
    "            \n",
    "            # convert remaining_lease that are timedelta to float, needed for the function(filling of remaining_lease)\n",
    "            elif isinstance(row['remaining_lease'], pd.Timedelta):\n",
    "                df.loc[index, 'remaining_lease'] = float(row['remaining_lease'].days / 365)\n",
    "\n",
    "            # convert remaining_lease that are int to float\n",
    "            elif isinstance(row['remaining_lease'], int):\n",
    "                df.loc[index, 'remaining_lease'] = float(row['remaining_lease'])\n",
    "        return df\n",
    "    \n",
    "    # When input is single value\n",
    "    # Convert remaining_lease that are string to float\n",
    "    elif isinstance(df, str):\n",
    "        remaining_lease_str = df.lower()\n",
    "        years = 0\n",
    "        months = 0\n",
    "        \n",
    "        if 'years' in remaining_lease_str:\n",
    "            years = int(remaining_lease_str.split('years')[0].strip())\n",
    "        if 'months' in remaining_lease_str:\n",
    "            months = int(remaining_lease_str.split('months')[0].split()[-1].strip())\n",
    "        return years + months / 12\n",
    "    \n",
    "    # convert remaining_lease that are timedelta to float, needed for code below(filling of remaining_lease)\n",
    "    elif isinstance(df, pd.Timedelta):\n",
    "        return float(df.days / 365)\n",
    "\n",
    "    # convert remaining_lease that are int to float\n",
    "    elif isinstance(df, int):\n",
    "        return float(df)\n",
    "\n",
    "    # if df is None or other type, return original value\n",
    "    else:\n",
    "        return df\n",
    "    \n",
    "def convert_month_to_datetime(df, column_name='month'):\n",
    "    df[column_name] = pd.to_datetime(df[column_name], format='%Y-%m', errors='coerce')\n",
    "    return df\n",
    "    \n"
   ]
  },
  {
   "cell_type": "markdown",
   "metadata": {},
   "source": [
    "#### Data Preparation"
   ]
  },
  {
   "cell_type": "markdown",
   "metadata": {},
   "source": [
    "<span style=\"font-size: 14px;\"> `split_storey_range` add in the columns of `lower_storey` and `upper_storey` derived from  `storey_range` </span>\n",
    "\n",
    "<span style=\"font-size: 14px;\"> `split_month_column` add in the columns of `year` and `month_number` derived from `month`</span>\n",
    "\n",
    "<span style=\"font-size: 14px;\"> `add_max_storey` add in the column `max_storey` for each building (at the very least the highest storey recorded)</span>\n",
    "\n",
    "<span style=\"font-size: 14px;\">  `adjust_remaining_lease` fill up as many missing values in `remaining_lease` using information from buildings that have values in `remaining_lease`</span>\n",
    "\n",
    "<span style=\"font-size: 14px;\">  add price/square meter </span>"
   ]
  },
  {
   "cell_type": "code",
   "execution_count": 8,
   "metadata": {},
   "outputs": [],
   "source": [
    "def split_storey_range(df):\n",
    "    \"\"\"\n",
    "    Splits the 'storey_range' column into 'lower_storey' and 'upper_storey'.\n",
    "    \n",
    "    Parameters:\n",
    "    df (pd.DataFrame): Input DataFrame containing the 'storey_range' column.\n",
    "    \n",
    "    Returns:\n",
    "    pd.DataFrame: Modified DataFrame with 'lower_storey' and 'upper_storey' columns added.\n",
    "    \"\"\"\n",
    "    # Splitting the 'storey_range' column into 'lower_storey' and 'upper_storey'\n",
    "    df[['lower_storey', 'upper_storey']] = df['storey_range'].str.split(' TO ', expand=True)\n",
    "\n",
    "    # Convert lower_storey and upper_storey to numeric types\n",
    "    df['lower_storey'] = pd.to_numeric(df['lower_storey'], errors='coerce')\n",
    "    df['upper_storey'] = pd.to_numeric(df['upper_storey'], errors='coerce')\n",
    "\n",
    "    return df\n",
    "\n",
    "def split_month_column(df):\n",
    "    \"\"\"\n",
    "    Splits the 'month' column into 'year' and 'month_number'.\n",
    "    \n",
    "    Parameters:\n",
    "    df (pd.DataFrame): Input DataFrame containing the 'month' column.\n",
    "    \n",
    "    Returns:\n",
    "    pd.DataFrame: Modified DataFrame with 'year' and 'month_number' columns added.\n",
    "    \"\"\"\n",
    "    # Splitting the 'month' column into 'year' and 'month_number'\n",
    "    df['year'] = pd.to_datetime(df['month']).dt.year\n",
    "    df['month_number'] = pd.to_datetime(df['month']).dt.month\n",
    "\n",
    "    return df\n",
    "\n",
    "def add_max_storey(df):\n",
    "    \"\"\"\n",
    "    Adds a column 'max_storey' to the DataFrame based on the maximum upper_storey \n",
    "    for each unique combination of town, block, and street_name.\n",
    "\n",
    "    Parameters:\n",
    "    df (pd.DataFrame): Input DataFrame containing 'town', 'block', 'street_name', and 'upper_storey'.\n",
    "\n",
    "    Returns:\n",
    "    pd.DataFrame: Modified DataFrame with the new 'max_storey' column.\n",
    "    \"\"\"\n",
    "    \n",
    "    # Create max_storey column\n",
    "    df['max_storey'] = df.groupby(['town', 'block', 'street_name'])['upper_storey'].transform('max')\n",
    "    \n",
    "    return df\n",
    "\n",
    "def calculate_age_of_flat(row):\n",
    "    \"\"\"\n",
    "Calculates the 'age_of_flat' for each row in the DataFrame based on the 'remaining_lease'\n",
    "or the 'lease_commence_date' and 'month_number' if 'remaining_lease' is NaN.\n",
    "\n",
    "Parameters:\n",
    "row (pd.Series): A row of the DataFrame containing 'remaining_lease', 'year',\n",
    "                 'lease_commence_date', and 'month_number'.\n",
    "\n",
    "Returns:\n",
    "float: The calculated 'age_of_flat', which is set to 0 if the result is negative.\n",
    "\"\"\"\n",
    "\n",
    "    if pd.notna(row['remaining_lease']):\n",
    "        age = 99 - row['remaining_lease']\n",
    "    else:\n",
    "        year = row['year']  \n",
    "        lease_commence_date = row['lease_commence_date']  \n",
    "        month_number = row['month_number']  \n",
    "        age = year - lease_commence_date + month_number / 12\n",
    "    \n",
    "    # Return 0 if age_of_flat is negative\n",
    "    return max(age, 0)\n",
    "\n"
   ]
  },
  {
   "cell_type": "code",
   "execution_count": 9,
   "metadata": {},
   "outputs": [],
   "source": [
    "# ver 2 with conversion of remaining_lease to numeric included\n",
    "def adjust_remaining_lease(df):\n",
    "    # Create a dictionary with keys as unique buildings and values initialized to None\n",
    "    unique_buildings = df[['town', 'block', 'street_name', 'lease_commence_date']].drop_duplicates().values.tolist()\n",
    "    building_dict = {(town, block, street_name, lease_commence_date): None for town, block, street_name, lease_commence_date in unique_buildings}\n",
    "\n",
    "    print(\"Successfully created building dictionary: \", len(building_dict))\n",
    "\n",
    "    # Convert month to datetime format just in case\n",
    "    if not pd.api.types.is_datetime64_any_dtype(df['month']):\n",
    "        df = convert_month_to_datetime(df)\n",
    "        print(\"month column was not in datetime and has been convereted\")\n",
    "\n",
    "    # Sort the dataframe by month in descending order (do not overwrite it with df = df.sort_values)\n",
    "    df.sort_values(by='month', ascending=False).reset_index(drop=True)\n",
    "\n",
    "    # Fill building_dict with lease end dates\n",
    "    # also convert remaining_lease to numeric value\n",
    "    for index, row in df.iterrows():\n",
    "        key = (row['town'], row['block'], row['street_name'], row['lease_commence_date'])\n",
    "        if pd.isna(row['remaining_lease']):\n",
    "            continue\n",
    "        \n",
    "        if building_dict[key] is not None:\n",
    "            df.loc[index, 'remaining_lease'] = convert_remaining_lease(row['remaining_lease'])\n",
    "            continue\n",
    "\n",
    "\n",
    "        if isinstance(row['remaining_lease'], str):\n",
    "            remaining_lease_str = row[\"remaining_lease\"].lower()\n",
    "            years = 0\n",
    "            months = 0\n",
    "            if 'years' in remaining_lease_str:\n",
    "                years = int(remaining_lease_str.split('years')[0].strip())\n",
    "            if 'months' in remaining_lease_str:\n",
    "                months = int(remaining_lease_str.split('months')[0].split()[-1].strip())\n",
    "            remaining_lease = pd.offsets.DateOffset(years=years, months=months)\n",
    "            lease_end_date = row['month'] + remaining_lease\n",
    "            df.loc[index, 'remaining_lease'] = years + months / 12\n",
    "        elif isinstance(row['remaining_lease'], (int, float)):\n",
    "            years = int(row['remaining_lease'])\n",
    "            months = int((row['remaining_lease'] - years) * 12) + 1\n",
    "            remaining_lease = pd.offsets.DateOffset(years=years, months=months)\n",
    "            lease_end_date = row['month'] + remaining_lease\n",
    "            if isinstance(row['remaining_lease'], int):\n",
    "                df.loc[index, 'remaining_lease'] = float(row['remaining_lease'])\n",
    "\n",
    "        building_dict[key] = lease_end_date\n",
    "    print(\"Successfully filled lease end date for each building\")\n",
    "\n",
    "    # Fill missing remaining_lease values\n",
    "    for index, row in df.iterrows():\n",
    "        key = (row['town'], row['block'], row['street_name'], row['lease_commence_date'])\n",
    "        if key in building_dict and building_dict[key] is not None:\n",
    "            if pd.isna(row['remaining_lease']):\n",
    "                remaining_lease = (building_dict[key] - row['month']).days / 365\n",
    "                df.loc[index, 'remaining_lease'] = float(remaining_lease)\n",
    "            elif 2015 <= row['month'].year <= 2016:\n",
    "                remaining_lease = (building_dict[key] - row['month']).days / 365\n",
    "                df.loc[index, 'remaining_lease'] = float(remaining_lease) \n",
    "\n",
    "    print(\"Successfully filled missing remaining lease for each building\")\n",
    "\n",
    "    # Sort df by month\n",
    "    df = df.sort_values(by='month', ascending=True).reset_index(drop=True)\n",
    "\n",
    "    return df"
   ]
  },
  {
   "cell_type": "markdown",
   "metadata": {},
   "source": [
    "#### Data Information"
   ]
  },
  {
   "cell_type": "markdown",
   "metadata": {},
   "source": [
    "<span style=\"font-size: 14px;\"> `filter_building` takes in the input of (df,'town', 'block', 'street_name'), and return all the transaction related to that buildling </span>\n",
    "\n",
    "<span style=\"font-size: 14px;\"> `get_column_data_types` displays the total number of each type for each column </span>\n",
    "\n",
    "<span style=\"font-size: 14px;\"> take note that the value Nan is still considered a float type in python, but this function do not consider Nan as float but its seperate group </span>"
   ]
  },
  {
   "cell_type": "code",
   "execution_count": 10,
   "metadata": {},
   "outputs": [],
   "source": [
    "def filter_building(df, town, block, street_name):\n",
    "    \"\"\"\n",
    "    Filters the DataFrame for listings of a specific building.\n",
    "\n",
    "    Parameters:\n",
    "    df (pd.DataFrame): The DataFrame containing property listings.\n",
    "    town (str): The town of the building.\n",
    "    block (int): The block number of the building.\n",
    "    street_name (str): The street name of the building.\n",
    "\n",
    "    Returns:\n",
    "    pd.DataFrame: Filtered DataFrame containing listings for the specified building.\n",
    "    \"\"\"\n",
    "    filtered_df = df[(df['town'] == town) & \n",
    "                     (df['block'] == block) & \n",
    "                     (df['street_name'] == street_name)]\n",
    "    \n",
    "    num_rows = len(filtered_df)\n",
    "    print(f\"Total number of transactions for the building: {num_rows}\")\n",
    "    #print(filtered_df)\n",
    "    return filtered_df\n",
    "\n",
    "\n",
    "def get_column_data_types(df):\n",
    "    # Handle the case where input is a Series aka a column of df\n",
    "    if isinstance(df, pd.Series):\n",
    "        data_types = df.apply(lambda x: 'NaN' if pd.isna(x) else str(type(x)))\n",
    "        data_types_counts = data_types.value_counts()\n",
    "    else:  # Assume input is a DataFrame\n",
    "        data_types = df.apply(lambda x: x.apply(lambda y: 'NaN' if pd.isna(y) else str(type(y))), axis=0)\n",
    "        # Count the occurrences of each type in each column\n",
    "        data_types_counts = data_types.apply(lambda x: x.value_counts())\n",
    "    \n",
    "    print(data_types_counts)\n"
   ]
  },
  {
   "cell_type": "markdown",
   "metadata": {},
   "source": [
    "#### Making of full data"
   ]
  },
  {
   "cell_type": "code",
   "execution_count": 11,
   "metadata": {},
   "outputs": [],
   "source": [
    "dataframes = [\n",
    "    df_2017_cleaned,\n",
    "    df_2016_cleaned,\n",
    "    df_2014_cleaned,\n",
    "    df_2012_cleaned,\n",
    "    df_1999_cleaned\n",
    "]\n",
    "\n",
    "full_cleaned = pd.concat(dataframes, ignore_index=True)\n",
    "full_cleaned = split_month_column(full_cleaned)\n",
    "full_cleaned = split_storey_range(full_cleaned)\n",
    "full_cleaned = add_max_storey(full_cleaned)\n",
    "full_cleaned = convert_month_to_datetime(full_cleaned)\n",
    "full_cleaned = clean_flat_model(full_cleaned)"
   ]
  },
  {
   "cell_type": "code",
   "execution_count": 12,
   "metadata": {},
   "outputs": [],
   "source": [
    "# add price per square meter\n",
    "full_cleaned['price_per_sqm'] = full_cleaned['resale_price'] / full_cleaned['floor_area_sqm']"
   ]
  },
  {
   "cell_type": "markdown",
   "metadata": {},
   "source": [
    "Number of `remaining_lease` that have data is 226161 where 37129 is int and 189032 is str, and there is a total of 707463 missing data\n"
   ]
  },
  {
   "cell_type": "code",
   "execution_count": null,
   "metadata": {},
   "outputs": [],
   "source": [
    "get_column_data_types(full_cleaned[\"remaining_lease\"])"
   ]
  },
  {
   "cell_type": "code",
   "execution_count": null,
   "metadata": {},
   "outputs": [],
   "source": [
    "full_cleaned"
   ]
  },
  {
   "cell_type": "markdown",
   "metadata": {},
   "source": [
    "##### Information on finding `remaining_lease` for pre-Jan 2015\n",
    "\n",
    "`remaining_lease` from Jan 2015 to Dec 2016 are in `int`\n",
    "\n",
    "While `remaining_lease` from Jan 2017 onwards are in `str` and are in the format of \"## years ## months\" or \" ## years\"\n",
    "\n",
    "Meanwhile, `remaining_lease` in pre-Jan 2015 are not available/Nan\n",
    "\n",
    "Thus, this function `adjust_remaining_lease` aims to figure out the `remaining_lease` in the data of pre-Jan 2015 by finding out what is the lease end date using data from Jan 2015 onwards\n",
    "\n",
    "The function sort the data from latest to earliest date of transaction this is because the latest transaction `remaining_lease` can derive number of years and months left while 2015 to 2016 data only derive number of years left, so sorting in descending order would ensure the dictionary in the function will be filled with the most updated data\n",
    "\n",
    "##### Additional information:\n",
    "\n",
    "For buildings where `remaining_lease` are still Nan after running the function, it means those building do not have transactions post-Jan 2015\n",
    "\n",
    "Likely those buildings were scheduled for en-bloc and are either already demolished or preparing to be demolished, hence the lack of transactions post-Jan 2015\n",
    "\n",
    "For more information, google search \"completed SERS projects\""
   ]
  },
  {
   "cell_type": "code",
   "execution_count": null,
   "metadata": {},
   "outputs": [],
   "source": [
    "full_cleaned = adjust_remaining_lease(full_cleaned)\n",
    "full_cleaned['age_of_flat'] = full_cleaned.apply(calculate_age_of_flat, axis=1)\n",
    "full_cleaned['remaining_lease'] = pd.to_numeric(full_cleaned['remaining_lease'], errors='coerce')\n"
   ]
  },
  {
   "cell_type": "markdown",
   "metadata": {},
   "source": [
    "##### After filling missing values of remaining_lease number of missing data is cut down from 707463 to 19058"
   ]
  },
  {
   "cell_type": "code",
   "execution_count": null,
   "metadata": {},
   "outputs": [],
   "source": [
    "get_column_data_types(full_cleaned[\"remaining_lease\"])"
   ]
  },
  {
   "cell_type": "markdown",
   "metadata": {},
   "source": [
    "#### Overview of data"
   ]
  },
  {
   "cell_type": "code",
   "execution_count": null,
   "metadata": {},
   "outputs": [],
   "source": [
    "full_cleaned\n",
    "get_column_data_types(full_cleaned)"
   ]
  },
  {
   "cell_type": "markdown",
   "metadata": {},
   "source": [
    "##### Distribution of the maximum storey"
   ]
  },
  {
   "cell_type": "code",
   "execution_count": null,
   "metadata": {},
   "outputs": [],
   "source": [
    "#Distribution of the maximum storey\n",
    "lst_of_max_storey = full_cleaned.groupby(['town', 'block', 'street_name'], as_index=False)['max_storey'].max()\n",
    "# Plot the histogram of max_storey\n",
    "plt.figure(figsize=(10, 6))\n",
    "plt.hist(lst_of_max_storey['max_storey'], bins=30, edgecolor='black')\n",
    "plt.title('Histogram of Maximum Storey by Building')\n",
    "plt.xlabel('Maximum Storey')\n",
    "plt.ylabel('Frequency')\n",
    "plt.grid(axis='y')\n",
    "plt.show()"
   ]
  },
  {
   "cell_type": "markdown",
   "metadata": {},
   "source": [
    "##### Distribution of age of flat when sold"
   ]
  },
  {
   "cell_type": "code",
   "execution_count": null,
   "metadata": {},
   "outputs": [],
   "source": [
    "bins = np.arange(0, 61, 1)  # Creates bins from 0 to 60 with a width of 1\n",
    "\n",
    "# Plot the histogram with individual bins\n",
    "plt.figure(figsize=(10, 6))\n",
    "plt.hist(full_cleaned['age_of_flat'], bins=bins, edgecolor='black', align='left')\n",
    "plt.title('Histogram of Age of Flat')\n",
    "plt.xlabel('Age of Flat (years)')\n",
    "plt.ylabel('Frequency')\n",
    "plt.xticks(np.arange(0, 61, 5))  # Optional: Set x-ticks at intervals of 5 for clarity\n",
    "plt.grid(axis='y')\n",
    "plt.show()"
   ]
  },
  {
   "cell_type": "markdown",
   "metadata": {},
   "source": [
    "##### Number of unique buildings"
   ]
  },
  {
   "cell_type": "code",
   "execution_count": null,
   "metadata": {},
   "outputs": [],
   "source": [
    "# Count unique buildings based on town, block, and street_name\n",
    "unique_buildings_count = full_cleaned.groupby(['town', 'block', 'street_name']).size().count()\n",
    "\n",
    "# Display the total number of unique buildings\n",
    "print(f\"Total number of unique buildings: {unique_buildings_count}\")"
   ]
  },
  {
   "cell_type": "markdown",
   "metadata": {},
   "source": [
    "##### Data exploration using filter_building"
   ]
  },
  {
   "cell_type": "code",
   "execution_count": null,
   "metadata": {},
   "outputs": [],
   "source": [
    "# input: (df, 'town', 'block', 'street_name'); case-sensitve \n",
    "filter_building(full_cleaned, 'KALLANG/WHAMPOA', '28', 'JLN BAHAGIA')"
   ]
  },
  {
   "cell_type": "markdown",
   "metadata": {},
   "source": [
    "Eg of a building that was scheduled for en-bloc hence last transaction date is up till 1999 only, as afterward the building is demolished"
   ]
  },
  {
   "cell_type": "code",
   "execution_count": null,
   "metadata": {},
   "outputs": [],
   "source": [
    "filter_building(full_cleaned, 'ANG MO KIO', '309', 'ANG MO KIO AVE 1')"
   ]
  },
  {
   "cell_type": "code",
   "execution_count": null,
   "metadata": {},
   "outputs": [],
   "source": [
    "# Filter the DataFrame to select the area 'ANG MO KIO', '309', 'ANG MO KIO AVE 1'\n",
    "selected_area = full_cleaned.loc[(full_cleaned['town'] == 'ANG MO KIO') &\n",
    "                                 (full_cleaned['block'] == '309') &\n",
    "                                 (full_cleaned['street_name'] == 'ANG MO KIO AVE 1')]\n",
    "\n",
    "# Plot a histogram of the 'month' column in the selected area\n",
    "selected_area['month'].hist(bins=12, edgecolor='black')\n",
    "plt.xlabel('Month')\n",
    "plt.ylabel('Frequency')\n",
    "plt.title('Histogram of Months in ANG MO KIO, 309, ANG MO KIO AVE 1')\n",
    "plt.show()"
   ]
  },
  {
   "cell_type": "markdown",
   "metadata": {},
   "source": [
    "#### Label Encoding\n"
   ]
  },
  {
   "cell_type": "code",
   "execution_count": 24,
   "metadata": {},
   "outputs": [],
   "source": [
    "\n",
    "#here i found 'MULTI-GENERATION', 'MULTI GENERATION' exits, so all changed to 'MULTI GENERATION'\n",
    "full_cleaned['flat_type'] = full_cleaned['flat_type'].replace('MULTI-GENERATION', 'MULTI GENERATION')\n"
   ]
  },
  {
   "cell_type": "code",
   "execution_count": 25,
   "metadata": {},
   "outputs": [],
   "source": [
    "\n",
    "flat_model_order_by_average_prices = full_cleaned.groupby('flat_model')['resale_price'].mean().reset_index().sort_values(by = 'resale_price', ascending=True)\n",
    "flat_type_order_by_average_prices = full_cleaned.groupby('flat_type')['resale_price'].mean().reset_index().sort_values(by = 'resale_price', ascending=True)\n",
    "town_order_by_average_prices = full_cleaned.groupby('town')['resale_price'].mean().reset_index().sort_values(by = 'resale_price', ascending=True)\n",
    "mapping_town = {town: idx + 1 for idx, town in enumerate(town_order_by_average_prices['town'])}\n",
    "mapping_flat_model = {flat_model: idx + 1 for idx, flat_model in enumerate(flat_model_order_by_average_prices['flat_model'])}\n",
    "mapping_flat_type = {flat_type: idx + 1 for idx, flat_type in enumerate(flat_type_order_by_average_prices['flat_type'])}\n",
    "\n",
    "full_cleaned['flat_model_encoded'] = full_cleaned['flat_model'].map(mapping_flat_model)\n",
    "full_cleaned['flat_type_encoded'] = full_cleaned['flat_type'].map(mapping_flat_type)\n",
    "full_cleaned['town_encoded'] = full_cleaned['town'].map(mapping_town)"
   ]
  },
  {
   "cell_type": "markdown",
   "metadata": {},
   "source": [
    "##### Street Name Encoding \n",
    "classify as region \n",
    "such as central, east, south  to reduce dimension\n",
    "reference：https://en.wikipedia.org/wiki/\n",
    "(i search for each town's wikipedia page and add them to different regions)\n",
    "\n",
    "CENTRAL: 'TOA PAYOH', 'QUEENSTOWN', 'MARINE PARADE', 'KALLANG/WHAMPOA', 'GEYLANG','CENTRAL AREA', 'BISHAN' ,'BUKIT TIMAH','BUKIT MERAH',\n",
    "EAST:'TAMPINES','PASIR RIS', 'BEDOK', \n",
    "NORTH: 'YISHUN', 'LIM CHU KANG', 'WOODLANDS''SEMBAWANG',  \n",
    "NORTHEAST: 'SERANGOON', 'SENGKANG','PUNGGOL', 'HOUGANG','ANG MO KIO', '\n",
    "WEST:'JURONG WEST', 'JURONG EAST', 'CLEMENTI','CHOA CHU KANG', 'BUKIT PANJANG', 'BUKIT BATOK', \n",
    "\n",
    "\n"
   ]
  },
  {
   "cell_type": "code",
   "execution_count": 26,
   "metadata": {},
   "outputs": [],
   "source": [
    "full_cleaned['town'].unique()\n",
    "\n",
    "\n",
    "town_to_region = {\n",
    "    # Central Region\n",
    "    'TOA PAYOH': 'Central',\n",
    "    'QUEENSTOWN': 'Central',\n",
    "    'MARINE PARADE': 'Central',\n",
    "    'KALLANG/WHAMPOA': 'Central',\n",
    "    'GEYLANG': 'Central',\n",
    "    'CENTRAL AREA': 'Central',\n",
    "    'BISHAN': 'Central',\n",
    "    'BUKIT TIMAH': 'Central',\n",
    "    'BUKIT MERAH': 'Central',\n",
    "\n",
    "    # East Region\n",
    "    'TAMPINES': 'East',\n",
    "    'PASIR RIS': 'East',\n",
    "    'BEDOK': 'East',\n",
    "\n",
    "    # North Region\n",
    "    'YISHUN': 'North',\n",
    "    'LIM CHU KANG': 'North',\n",
    "    'WOODLANDS': 'North',\n",
    "    'SEMBAWANG': 'North',\n",
    "\n",
    "    # Northeast Region\n",
    "    'SERANGOON': 'Northeast',\n",
    "    'SENGKANG': 'Northeast',\n",
    "    'PUNGGOL': 'Northeast',\n",
    "    'HOUGANG': 'Northeast',\n",
    "    'ANG MO KIO': 'Northeast',\n",
    "\n",
    "    # West Region\n",
    "    'JURONG WEST': 'West',\n",
    "    'JURONG EAST': 'West',\n",
    "    'CLEMENTI': 'West',\n",
    "    'CHOA CHU KANG': 'West',\n",
    "    'BUKIT PANJANG': 'West',\n",
    "    'BUKIT BATOK': 'West'\n",
    "}\n",
    "\n",
    "# Map the town to its region and create a new column\n",
    "full_cleaned['region'] = full_cleaned['town'].map(town_to_region)\n"
   ]
  },
  {
   "cell_type": "code",
   "execution_count": null,
   "metadata": {},
   "outputs": [],
   "source": [
    "full_cleaned"
   ]
  },
  {
   "cell_type": "code",
   "execution_count": null,
   "metadata": {},
   "outputs": [],
   "source": [
    "numeric_df = full_cleaned._get_numeric_data()\n",
    "correlation_matrix = numeric_df.corr()\n",
    "plt.figure(figsize=(10, 8))\n",
    "sns.heatmap(correlation_matrix, annot=True, cmap='coolwarm', linewidths=0.5)\n",
    "plt.title('Correlation Heatmap of Combined Numerical Data')\n",
    "plt.show()"
   ]
  },
  {
   "cell_type": "code",
   "execution_count": null,
   "metadata": {},
   "outputs": [],
   "source": [
    "#linear regression model\n",
    "# Define the feature matrix (X) and target variable (y)\n",
    "features = [\n",
    "    'floor_area_sqm', 'lease_commence_date',\n",
    "    'flat_type_encoded', 'flat_model_encoded', 'town_encoded',\n",
    "    'lower_storey', 'upper_storey', 'max_storey'\n",
    "]\n",
    "X = full_cleaned[features]\n",
    "y = full_cleaned['resale_price']\n",
    "\n",
    "# Split the data into training and testing sets (80% train, 20% test)\n",
    "X_train, X_test, y_train, y_test = train_test_split(X, y, test_size=0.2, random_state=42)\n",
    "\n",
    "# Initialize and train the Linear Regression Model\n",
    "model = LinearRegression()\n",
    "model.fit(X_train, y_train)\n",
    "\n",
    "# Predict and evaluate the model\n",
    "y_pred = model.predict(X_test)\n",
    "mse = mean_squared_error(y_test, y_pred)\n",
    "r2 = r2_score(y_test, y_pred)\n",
    "\n",
    "# Printing results\n",
    "print(\"Mean Squared Error:\", mse)\n",
    "print(\"R^2 Score:\", r2)\n",
    "print(f'Coefficients: {model.coef_}')\n",
    "print(f'Intercept: {model.intercept_}')"
   ]
  }
 ],
 "metadata": {
  "kernelspec": {
   "display_name": "base",
   "language": "python",
   "name": "python3"
  },
  "language_info": {
   "codemirror_mode": {
    "name": "ipython",
    "version": 3
   },
   "file_extension": ".py",
   "mimetype": "text/x-python",
   "name": "python",
   "nbconvert_exporter": "python",
   "pygments_lexer": "ipython3",
   "version": "3.12.4"
  }
 },
 "nbformat": 4,
 "nbformat_minor": 2
}
