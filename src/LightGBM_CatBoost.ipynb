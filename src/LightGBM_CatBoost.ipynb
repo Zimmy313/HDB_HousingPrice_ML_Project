{
 "cells": [
  {
   "cell_type": "code",
   "execution_count": 9,
   "metadata": {},
   "outputs": [],
   "source": [
    "import pandas as pd\n",
    "from sklearn.pipeline import Pipeline\n",
    "from sklearn.compose import ColumnTransformer\n",
    "from sklearn.model_selection import train_test_split\n",
    "from sklearn.metrics import mean_squared_error\n",
    "import lightgbm as lgb\n",
    "import numpy as np"
   ]
  },
  {
   "cell_type": "code",
   "execution_count": 7,
   "metadata": {},
   "outputs": [],
   "source": [
    "X_train_1 =pd.read_csv(\"../data/boost/X_train_boost_part1.csv\", index_col = \"index\")\n",
    "X_train_2 =pd.read_csv(\"../data/boost/X_train_boost_part2.csv\", index_col = \"index\")\n",
    "X_train_3 =pd.read_csv(\"../data/boost/X_train_boost_part3.csv\", index_col = \"index\")\n",
    "X_train = pd.concat([X_train_1,X_train_2,X_train_3])\n",
    "\n",
    "X_test = pd.read_csv(\"../data/boost/X_test_boost.csv\", index_col = \"index\")\n",
    "\n",
    "y_train = pd.read_csv(\"../data/y_train.csv\", index_col = \"index\")\n",
    "y_test = pd.read_csv(\"../data/y_test.csv\", index_col = \"index\")\n"
   ]
  },
  {
   "cell_type": "code",
   "execution_count": null,
   "metadata": {},
   "outputs": [],
   "source": [
    "# changing categorical variables into correct type\n",
    "categorical_cols = ['flat_type', 'town', 'storey_range', 'flat_model', 'block', 'street_name', ''] "
   ]
  }
 ],
 "metadata": {
  "kernelspec": {
   "display_name": "CS3243",
   "language": "python",
   "name": "python3"
  },
  "language_info": {
   "codemirror_mode": {
    "name": "ipython",
    "version": 3
   },
   "file_extension": ".py",
   "mimetype": "text/x-python",
   "name": "python",
   "nbconvert_exporter": "python",
   "pygments_lexer": "ipython3",
   "version": "3.11.9"
  }
 },
 "nbformat": 4,
 "nbformat_minor": 2
}
