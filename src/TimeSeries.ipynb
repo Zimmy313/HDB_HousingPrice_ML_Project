{
 "cells": [
  {
   "cell_type": "code",
   "execution_count": 2,
   "metadata": {},
   "outputs": [],
   "source": [
    "import numpy as np\n",
    "import pandas as pd\n",
    "import matplotlib.pyplot as plt\n",
    "import seaborn as sns\n",
    "import scipy.stats as stats\n",
    "\n",
    "from sklearn.metrics import root_mean_squared_error, r2_score, pairwise_distances"
   ]
  },
  {
   "cell_type": "code",
   "execution_count": null,
   "metadata": {},
   "outputs": [],
   "source": [
    "X_train_1 =pd.read_csv(\"../data/X_train_part1.csv\", index_col = \"index\")\n",
    "X_train_2 =pd.read_csv(\"../data/X_train_part2.csv\", index_col = \"index\")\n",
    "X_train_3 =pd.read_csv(\"../data/X_train_part3.csv\", index_col = \"index\")\n",
    "X_train = pd.concat([X_train_1,X_train_2,X_train_3])\n",
    "y_train = pd.read_csv(\"../data/y_train.csv\", index_col = \"index\")\n",
    "\n",
    "X_test =pd.read_csv(\"../data/X_test.csv\", index_col = \"index\")\n",
    "y_test = pd.read_csv(\"../data/y_test.csv\", index_col = \"index\")\n",
    "\n",
    "X_train_removed = pd.read_csv(\"../data/X_train_removed.csv\",index_col = \"index\")\n",
    "X_test_removed = pd.read_csv(\"../data/X_test_removed.csv\",index_col = \"index\")"
   ]
  }
 ],
 "metadata": {
  "kernelspec": {
   "display_name": "DL",
   "language": "python",
   "name": "python3"
  },
  "language_info": {
   "codemirror_mode": {
    "name": "ipython",
    "version": 3
   },
   "file_extension": ".py",
   "mimetype": "text/x-python",
   "name": "python",
   "nbconvert_exporter": "python",
   "pygments_lexer": "ipython3",
   "version": "3.11.9"
  }
 },
 "nbformat": 4,
 "nbformat_minor": 2
}
